{
 "cells": [
  {
   "cell_type": "code",
   "execution_count": null,
   "metadata": {},
   "outputs": [],
   "source": [
    "#importin libraries \n",
    "import numpy as np\n",
    "import os\n",
    "from os import path\n",
    "import cv2\n",
    "from PIL import Image\n",
    "import keras\n",
    "import tensorflow as tf\n",
    "from keras.preprocessing import image\n",
    "from keras.preprocessing.image import load_img\n",
    "rom keras.preprocessing.image import img_to_array\n",
    "from keras.preprocessing.image import array_to_img\n",
    "import matplotlib.pyplot as plt\n",
    "\n",
    "\n"
   ]
  },
  {
   "cell_type": "code",
   "execution_count": null,
   "metadata": {},
   "outputs": [],
   "source": [
    "new_model = tf.keras.models.load_model('data/NN_model.h5')#my model\n",
    "new_model.summary() #summarising the imported model"
   ]
  },
  {
   "cell_type": "code",
   "execution_count": null,
   "metadata": {},
   "outputs": [],
   "source": [
    "#making the path for the file\n",
    "dir_path = \"data/evaluate\"\n",
    "for i in os.listdir(dir_path):\n",
    "    #img = image.load_img(dir_path+'//'+ i)\n",
    "    image1= cv2.imread(dir_path+'//'+ i)\n",
    "    img= image.load_img(dir_path+'//'+ i, target_size=(256,256))\n",
    "    img=image.img_to_array(img)\n",
    "    img=np.array([img])/255\n",
    "\n",
    "    image = cv2.cvtColor(np.float32(image1),cv2.COLOR_BGR2RGB)\n",
    "    image = cv2.cvtColor(image, cv2.COLOR_RGB2HSV)\n",
    "    lower = [np.mean(image[:,:,i] - np.std(image[:,:,i])/3 ) for i in range(3)]\n",
    "    upper = [250, 250, 250]\n",
    "    lower = np.array(lower, dtype=\"uint8\")\n",
    "    upper = np.array(upper, dtype=\"uint8\")\n",
    "    mask = cv2.inRange(image, lower, upper)\n",
    "    output = cv2.bitwise_and(image, image, mask=mask)\n",
    "    ret, thresh_h = cv2.threshold(mask, 40, 255, 0)\n",
    "    contours, hierarchy = cv2.findContours(thresh_h, cv2.RETR_EXTERNAL, cv2.CHAIN_APPROX_NONE)\n",
    "    #find the biggest countour (c) by the area\n",
    "    c = max(contours, key = cv2.contourArea)\n",
    "    x,y,w,h = cv2.boundingRect(c)\n",
    "    # draw the biggest contour (c) in green\n",
    "    cv2.rectangle(output,(x,y),(x+w,y+h),(0,255,0),5)\n",
    "\n",
    "    #now we must work on the result:\n",
    "    result = new_model.predict(img)\n",
    "    if result <= 0.5:\n",
    "        print(\"Tobacco\")\n",
    "        cv2.putText(output, \"Tobacco\", (x+20, y-20),cv2.FONT_HERSHEY_SIMPLEX,1, (0, 255, 0), 3) \n",
    "    else:\n",
    "        print(\"Weed\")\n",
    "        cv2.putText(output, \"Weed\", (x+20, y-20),cv2.FONT_HERSHEY_SIMPLEX,1, (0, 255, 0), 3)\n",
    "\n",
    "    plt.figure(figsize=(20,4))\n",
    "    plt.subplot(1,3,1),plt.imshow(image1),plt.title(\"input\")\n",
    "    plt.subplot(1,3,2),plt.imshow(output),plt.title(\"Detection\")\n",
    "    plt.show()\n"
   ]
  }
 ],
 "metadata": {
  "kernelspec": {
   "display_name": "Python 3",
   "language": "python",
   "name": "python3"
  },
  "language_info": {
   "codemirror_mode": {
    "name": "ipython",
    "version": 3
   },
   "file_extension": ".py",
   "mimetype": "text/x-python",
   "name": "python",
   "nbconvert_exporter": "python",
   "pygments_lexer": "ipython3",
   "version": "3.11.3"
  }
 },
 "nbformat": 4,
 "nbformat_minor": 2
}
