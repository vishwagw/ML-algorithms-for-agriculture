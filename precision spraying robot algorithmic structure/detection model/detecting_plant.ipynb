{
 "cells": [
  {
   "cell_type": "code",
   "execution_count": null,
   "metadata": {},
   "outputs": [],
   "source": [
    "from PIL import Image\n",
    "import numpy as np\n",
    "import pandas as pd\n",
    "import matplotlib.pyplot as plt\n",
    "import os \n",
    "import cv2"
   ]
  },
  {
   "cell_type": "code",
   "execution_count": null,
   "metadata": {},
   "outputs": [],
   "source": [
    "#defining the image/image1 variables\n",
    "image1 = cv2.imread('Test/tobacco/tobacco_4261.JPG')\n",
    "image = cv2.cvtColor(image1, cv2.COLOR_BGR2RGB)\n",
    "image = cv2.cvtColor(image, cv2.COLOR_RGB2HSV)\n"
   ]
  },
  {
   "cell_type": "code",
   "execution_count": null,
   "metadata": {},
   "outputs": [],
   "source": [
    "lower = [np.mean(image[:,:,i] - np.std(image[:,:,i])/3 ) for i in range(3)]\n",
    "upper = [250, 250, 250]\n",
    "lower = np.array(lower, dtype='unit8')\n",
    "upper = np.array(upper, dtype='unit8')\n",
    "mask = cv2.inRange(image, lower, upper)\n",
    "output = cv2.threshold(mask, 40, 255, 0)\n",
    "ret, thresh_h = cv2.threshold(mask, 40, 255, 0)\n",
    "contours, hierarchy = cv2.findContours(thresh_h, cv2.RETR_EXTERNAL, cv2.CHAIN_APPROX_NONE)\n",
    "\n",
    "# find the biggest countour (c) by the area\n",
    "c = max(contours, key = cv2.contourArea)\n",
    "x,y,w,h = cv2.boundingRect(c)\n",
    "\n",
    "# draw the biggest contour (c) in green\n",
    "cv2.rectangle(output,(x,y),(x+w,y+h),(0,255,0),5)\n",
    "cv2.putText(output, \"TOBACCO\", (x+20, y-20),cv2.FONT_HERSHEY_SIMPLEX,1, (0, 255, 0), 3) \n",
    "plt.figure(figsize=(20,4))\n",
    "plt.subplot(1,3,1),plt.imshow(image1),plt.title(\"input\")\n",
    "plt.subplot(1,3,2),plt.imshow(output),plt.title(\"Detection\")\n",
    "\n",
    "plt.show()\n"
   ]
  },
  {
   "cell_type": "code",
   "execution_count": null,
   "metadata": {},
   "outputs": [],
   "source": [
    "dir_path = 'Test/tobacco'\n",
    "for i in os.listdir(dir_path):\n",
    "    image1 = cv2.imread(dir_path+'//'+ i)\n",
    "    image = cv2.cvtColor(image1,cv2.COLOR_BGR2RGB)\n",
    "    image = cv2.cvtColor(image, cv2.COLOR_RGB2HSV)\n",
    "    lower = [np.mean(image[:,:,i] - np.std(image[:,:,i])/3 ) for i in range(3)]\n",
    "    upper = [250, 250, 250]\n",
    "    lower = np.array(lower, dtype=\"uint8\")\n",
    "    upper = np.array(upper, dtype=\"uint8\")\n",
    "    mask = cv2.inRange(image, lower, upper)\n",
    "    output = cv2.bitwise_and(image, image, mask=mask)\n",
    "    ret,thresh = cv2.threshold(mask, 40, 255, 0)\n",
    "    contours, hierarchy = cv2.findContours(thresh, cv2.RETR_EXTERNAL, cv2.CHAIN_APPROX_NONE)\n",
    "\n",
    "    #finding the biggest countour (c) by name\n",
    "    c = max(contours, key = cv2.contourArea)\n",
    "\n",
    "    #draw th biggest contour (c) in green\n",
    "    cv2.rectangle(output,(x,y),(x+w,y+h),(0,255,0),5)\n",
    "    cv2.putText(output, \"TOBACCO\", (x+20, y-20),cv2.FONT_HERSHEY_SIMPLEX,1, (0, 255, 0), 3) \n",
    "    plt.figure(figsize=(20,4))\n",
    "    plt.subplot(1,3,1),plt.imshow(image1),plt.title(\"input\")\n",
    "    plt.subplot(1,3,2),plt.imshow(output),plt.title(\"Detection\")\n",
    "\n",
    "    plt.show()\n",
    "    "
   ]
  }
 ],
 "metadata": {
  "kernelspec": {
   "display_name": "Python 3",
   "language": "python",
   "name": "python3"
  },
  "language_info": {
   "codemirror_mode": {
    "name": "ipython",
    "version": 3
   },
   "file_extension": ".py",
   "mimetype": "text/x-python",
   "name": "python",
   "nbconvert_exporter": "python",
   "pygments_lexer": "ipython3",
   "version": "3.11.3"
  }
 },
 "nbformat": 4,
 "nbformat_minor": 2
}
