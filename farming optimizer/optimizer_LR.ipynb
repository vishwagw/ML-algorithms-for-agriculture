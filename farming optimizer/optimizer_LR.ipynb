{
 "cells": [
  {
   "cell_type": "code",
   "execution_count": null,
   "metadata": {},
   "outputs": [],
   "source": [
    "#importing the libraires \n",
    "import pandas as pd\n",
    "import numpy as np\n",
    "import seaborn as sns\n",
    "import matplotlib.pyplot as plt\n",
    "plt.style.use('fivethirtyeight')\n",
    "import ipywidgets\n",
    "from ipywidgets import interact"
   ]
  },
  {
   "cell_type": "markdown",
   "metadata": {},
   "source": [
    "Before we start to build the model, we can understand the dataset."
   ]
  },
  {
   "cell_type": "code",
   "execution_count": null,
   "metadata": {},
   "outputs": [],
   "source": [
    "#reading thedataset:(from the csv file)\n",
    "input_d = pd.read_csv('data.csv')\n",
    "\n",
    "#checkin the shape:\n",
    "#print(\"Shape of the dataset\")\n",
    "#input_d.shape\n",
    "#using a one line:\n",
    "print(\"Shape of the dataset: \", input_d.shape)\n",
    "\n",
    "input_d.head()"
   ]
  },
  {
   "cell_type": "code",
   "execution_count": null,
   "metadata": {},
   "outputs": [],
   "source": [
    "#checking for missing values in dataset:\n",
    "input_d.insull().sum()"
   ]
  },
  {
   "cell_type": "code",
   "execution_count": null,
   "metadata": {},
   "outputs": [],
   "source": [
    "#checking the crop species and their presentage insid the dataset:\n",
    "input_d['label'].value_counts()"
   ]
  },
  {
   "cell_type": "code",
   "execution_count": null,
   "metadata": {},
   "outputs": [],
   "source": [
    "# lets check the Summary for all the crops\n",
    "\n",
    "print(\"Average Ratio of Nitrogen in the Soil : {0:.2f}\".format(input_d['N'].mean()))\n",
    "print(\"Average Ratio of Phosphorous in the Soil : {0:.2f}\".format(input_d['P'].mean()))\n",
    "print(\"Average Ratio of Potassium in the Soil : {0:.2f}\".format(input_d['K'].mean()))\n",
    "print(\"Average Tempature in Celsius : {0:.2f}\".format(input_d['temperature'].mean()))\n",
    "print(\"Average Relative Humidity in % : {0:.2f}\".format(input_d['humidity'].mean()))\n",
    "print(\"Average PH Value of the soil : {0:.2f}\".format(input_d['ph'].mean()))\n",
    "print(\"Average Rainfall in mm : {0:.2f}\".format(input_d['rainfall'].mean()))"
   ]
  },
  {
   "cell_type": "code",
   "execution_count": null,
   "metadata": {},
   "outputs": [],
   "source": [
    "#checking the statistics summary:\n",
    "\n",
    "@interact\n",
    "def summary(crops = list(input_d['label'].value_counts().index)):\n",
    "    x = input_d[input_d['label'] == crops]\n",
    "    print(\"---------------------------------------------\")\n",
    "    print(\"Nitrogen Statistics : \")\n",
    "    print(\"Minimum Nitrigen required :\", x['N'].min())\n",
    "    print(\"Average Nitrogen required :\", x['N'].mean())\n",
    "    print(\"Maximum Nitrogen required :\", x['N'].max()) \n",
    "    print(\"---------------------------------------------\")\n",
    "    print(\"Phosphorous Statistics : \")\n",
    "    print(\"Minimum Phosphorous required :\", x['P'].min())\n",
    "    print(\"Average Phosphorous required :\", x['P'].mean())\n",
    "    print(\"Maximum Phosphorous required :\", x['P'].max()) \n",
    "    print(\"---------------------------------------------\")\n",
    "    print(\"Potassium Statistics : \")\n",
    "    print(\"Minimum Potassium required :\", x['K'].min())\n",
    "    print(\"Average Potassium required :\", x['K'].mean())\n",
    "    print(\"Maximum Potassium required :\", x['K'].max()) \n",
    "    print(\"---------------------------------------------\")\n",
    "    print(\"Temperature Statistics : \")\n",
    "    print(\"Minimum Temperature required : {0:.2f}\".format(x['temperature'].min()))\n",
    "    print(\"Average Temperature required : {0:.2f}\".format(x['temperature'].mean()))\n",
    "    print(\"Maximum Temperature required : {0:.2f}\".format(x['temperature'].max()))\n",
    "    print(\"---------------------------------------------\")\n",
    "    print(\"Humidity Statistics : \")\n",
    "    print(\"Minimum Humidity required : {0:.2f}\".format(x['humidity'].min()))\n",
    "    print(\"Average Humidity required : {0:.2f}\".format(x['humidity'].mean()))\n",
    "    print(\"Maximum Humidity required : {0:.2f}\".format(x['humidity'].max()))\n",
    "    print(\"---------------------------------------------\")\n",
    "    print(\"PH Statistics : \")\n",
    "    print(\"Minimum PH required : {0:.2f}\".format(x['ph'].min()))\n",
    "    print(\"Average PH required : {0:.2f}\".format(x['ph'].mean()))\n",
    "    print(\"Maximum PH required : {0:.2f}\".format(x['ph'].max()))\n",
    "    print(\"---------------------------------------------\")\n",
    "    print(\"Rainfall Statistics : \")\n",
    "    print(\"Minimum Rainfall required : {0:.2f}\".format(x['rainfall'].min()))\n",
    "    print(\"Average Rainfall required : {0:.2f}\".format(x['rainfall'].mean()))\n",
    "    print(\"Maximum Rainfall required : {0:.2f}\".format(x['rainfall'].max()))"
   ]
  },
  {
   "cell_type": "markdown",
   "metadata": {},
   "source": [
    "Now let's compare the minimum requirements with the average condition fo each crops."
   ]
  },
  {
   "cell_type": "code",
   "execution_count": null,
   "metadata": {},
   "outputs": [],
   "source": [
    "@interact\n",
    "def compare(conditions = ['N','P','K','temperature','ph','humidity','rainfall']):\n",
    "    print(\"Average Value for\", conditions,\"is {0:.2f}\".format(data[conditions].mean()))\n",
    "    print(\"----------------------------------------------\")\n",
    "    print(\"Rice : {0:.2f}\".format(input_d[(input_d['label'] == 'rice')][conditions].mean()))\n",
    "    print(\"Black Grams : {0:.2f}\".format(input_d[input_d['label'] == 'blackgram'][conditions].mean()))\n",
    "    print(\"Banana : {0:.2f}\".format(input_d[(input_d['label'] == 'banana')][conditions].mean()))\n",
    "    print(\"Jute : {0:.2f}\".format(input_d[input_d['label'] == 'jute'][conditions].mean()))\n",
    "    print(\"Coconut : {0:.2f}\".format(input_d[(input_d['label'] == 'coconut')][conditions].mean()))\n",
    "    print(\"Apple : {0:.2f}\".format(input_d[input_d['label'] == 'apple'][conditions].mean()))\n",
    "    print(\"Papaya : {0:.2f}\".format(input_d[(input_d['label'] == 'papaya')][conditions].mean()))\n",
    "    print(\"Muskmelon : {0:.2f}\".format(input_d[input_d['label'] == 'muskmelon'][conditions].mean()))\n",
    "    print(\"Grapes : {0:.2f}\".format(input_d[(input_d['label'] == 'grapes')][conditions].mean()))\n",
    "    print(\"Watermelon : {0:.2f}\".format(input_d[input_d['label'] == 'watermelon'][conditions].mean()))\n",
    "    print(\"Kidney Beans: {0:.2f}\".format(input_d[(input_d['label'] == 'kidneybeans')][conditions].mean()))\n",
    "    print(\"Mung Beans : {0:.2f}\".format(input_d[input_d['label'] == 'mungbean'][conditions].mean()))\n",
    "    print(\"Oranges : {0:.2f}\".format(input_d[(input_d['label'] == 'orange')][conditions].mean()))\n",
    "    print(\"Chick Peas : {0:.2f}\".format(input_d[input_d['label'] == 'chickpea'][conditions].mean()))\n",
    "    print(\"Lentils : {0:.2f}\".format(input_d[(input_d['label'] == 'lentil')][conditions].mean()))\n",
    "    print(\"Cotton : {0:.2f}\".format(input_d[input_d['label'] == 'cotton'][conditions].mean()))\n",
    "    print(\"Maize : {0:.2f}\".format(input_d[(input_d['label'] == 'maize')][conditions].mean()))\n",
    "    print(\"Moth Beans : {0:.2f}\".format(input_d[input_d['label'] == 'mothbeans'][conditions].mean()))\n",
    "    print(\"Pigeon Peas : {0:.2f}\".format(input_d[(input_d['label'] == 'pigeonpeas')][conditions].mean()))\n",
    "    print(\"Mango : {0:.2f}\".format(input_d[input_d['label'] == 'mango'][conditions].mean()))\n",
    "    print(\"Pomegranate : {0:.2f}\".format(input_d[(input_d['label'] == 'pomegranate')][conditions].mean()))\n",
    "    print(\"Coffee : {0:.2f}\".format(input_d[input_d['label'] == 'coffee'][conditions].mean()))"
   ]
  },
  {
   "cell_type": "code",
   "execution_count": null,
   "metadata": {},
   "outputs": [],
   "source": [
    "#now we must continue to develop the function:\n",
    "@interact\n",
    "def compare(conditions = ['N','P','K','temperature','ph','humidity','rainfall']):\n",
    "    print(\"Crops which require greater than average\", conditions,'\\n')\n",
    "    print(input_d[input_d[conditions] > input_d[conditions].mean()]['label'].unique())\n",
    "    print(\"----------------------------------------------\")\n",
    "    print(\"Crops which require less than average\", conditions,'\\n')\n",
    "    print(input_d[input_d[conditions] <= input_d[conditions].mean()]['label'].unique())"
   ]
  },
  {
   "cell_type": "markdown",
   "metadata": {},
   "source": [
    "now we can use the model to check the agricultural conditions for distribution."
   ]
  },
  {
   "cell_type": "code",
   "execution_count": null,
   "metadata": {},
   "outputs": [],
   "source": [
    "plt.rcParams['figure.figsize'] = (15, 7)\n",
    "\n",
    "plt.subplot(2, 4, 1)\n",
    "sns.distplot(data['N'], color = 'lightgrey')\n",
    "plt.xlabel('Ratio of Nitrogen', fontsize = 12)\n",
    "plt.grid()\n",
    "\n",
    "plt.subplot(2, 4, 2)\n",
    "sns.distplot(data['P'], color = 'skyblue')\n",
    "plt.xlabel('Ratio of Phosphorous', fontsize = 12)\n",
    "plt.grid()\n",
    "\n",
    "plt.subplot(2, 4, 3)\n",
    "sns.distplot(data['K'], color ='darkblue')\n",
    "plt.xlabel('Ratio of Potassium', fontsize = 12)\n",
    "plt.grid()\n",
    "\n",
    "plt.subplot(2, 4, 4)\n",
    "sns.distplot(data['temperature'], color = 'black')\n",
    "plt.xlabel('Temperature', fontsize = 12)\n",
    "plt.grid()\n",
    "\n",
    "plt.subplot(2, 4, 5)\n",
    "sns.distplot(data['rainfall'], color = 'grey')\n",
    "plt.xlabel('Rainfall', fontsize = 12)\n",
    "plt.grid()\n",
    "\n",
    "plt.subplot(2, 4, 6)\n",
    "sns.distplot(data['humidity'], color = 'lightgreen')\n",
    "plt.xlabel('Humidity', fontsize = 12)\n",
    "plt.grid()\n",
    "\n",
    "plt.subplot(2, 4, 7)\n",
    "sns.distplot(data['ph'], color = 'darkgreen')\n",
    "plt.xlabel('pH Level', fontsize = 12)\n",
    "plt.grid()\n",
    "\n",
    "plt.suptitle('Distribution for Agricultural Conditions', fontsize = 20)\n",
    "plt.show()\n"
   ]
  },
  {
   "cell_type": "code",
   "execution_count": null,
   "metadata": {},
   "outputs": [],
   "source": [
    "print(\"Some Interesting Patterns\")\n",
    "print(\"---------------------------------\")\n",
    "print(\"Crops which requires very High Ratio of Nitrogen Content in Soil:\", input_d[input_d['N'] > 120]['label'].unique())\n",
    "print(\"Crops which requires very High Ratio of Phosphorous Content in Soil:\", input_d[input_d['P'] > 100]['label'].unique())\n",
    "print(\"Crops which requires very High Ratio of Potassium Content in Soil:\", input_d[input_d['K'] > 200]['label'].unique())\n",
    "print(\"Crops which requires very High Rainfall:\", input_d[input_d['rainfall'] > 200]['label'].unique())\n",
    "print(\"Crops which requires very Low Temperature :\", input_d[input_d['temperature'] < 10]['label'].unique())\n",
    "print(\"Crops which requires very High Temperature :\", input_d[input_d['temperature'] > 40]['label'].unique())\n",
    "print(\"Crops which requires very Low Humidity:\", input_d[input_d['humidity'] < 20]['label'].unique())\n",
    "print(\"Crops which requires very Low pH:\", input_d[input_d['ph'] < 4]['label'].unique())\n",
    "print(\"Crops which requires very High pH:\", input_d[input_d['ph'] > 9]['label'].unique())"
   ]
  },
  {
   "cell_type": "code",
   "execution_count": null,
   "metadata": {},
   "outputs": [],
   "source": [
    "#now we can predict what crops can be only grown in specific seasons[summer season, winter etc.]:\n",
    "print(\"Summer Crops\")\n",
    "print(input_d[(input_d['temperature'] > 30) & (input_d['humidity'] > 50)]['label'].unique())\n",
    "print(\"-----------------------------------\")\n",
    "print(\"Winter Crops\")\n",
    "print(input_d[(input_d['temperature'] < 20) & (input_d['humidity'] > 30)]['label'].unique())\n",
    "print(\"-----------------------------------\")\n",
    "print(\"Rainy Crops\")\n",
    "print(input_d[(input_d['rainfall'] > 200) & (input_d['humidity'] > 30)]['label'].unique())"
   ]
  },
  {
   "cell_type": "markdown",
   "metadata": {},
   "source": [
    "Clustering process:"
   ]
  },
  {
   "cell_type": "code",
   "execution_count": null,
   "metadata": {},
   "outputs": [],
   "source": [
    "#lets cluster the similar crops now.\n",
    "# lets import the warnings library so that we can avoid warnings\n",
    "import warnings\n",
    "warnings.filterwarnings('ignore')\n",
    "\n",
    "# Lets select the Spending score, and Annual Income Columns from the Data\n",
    "x = input_d.loc[:, ['N','P','K','temperature','ph','humidity','rainfall']].values\n",
    "\n",
    "# let's check the shape of x\n",
    "print(x.shape)\n",
    "\n",
    "# lets convert this data into a dataframe\n",
    "x_data  = pd.DataFrame(x)\n",
    "x_data.head()"
   ]
  },
  {
   "cell_type": "code",
   "execution_count": null,
   "metadata": {},
   "outputs": [],
   "source": [
    "from sklearn.cluster import KMeans\n",
    "plt.rcParams['figure.figsize'] = (10, 4)\n",
    "\n",
    "wcss = []\n",
    "for i in range(1, 11):\n",
    "    km = KMeans(n_clusters = i, init = 'k-means++', max_iter = 300, n_init = 10, random_state = 0)\n",
    "    km.fit(i)\n",
    "    wcss.append(km.inertia_)\n",
    "\n",
    "#plotiing the results:\n",
    "plt.plot(range(1, 11), wcss)\n",
    "plt.title('The Elbow Method', fontsize = 20)\n",
    "plt.xlabel('No. of Clusters')\n",
    "plt.ylabel('wcss')\n",
    "plt.show()"
   ]
  },
  {
   "cell_type": "code",
   "execution_count": null,
   "metadata": {},
   "outputs": [],
   "source": [
    "# lets implement the K Means algorithm to perform Clustering analysis\n",
    "km = KMeans(n_clusters = 4, init = 'k-means++', max_iter = 300, n_init = 10, random_state = 0)\n",
    "y_means = km.fit_predict(x)\n",
    "\n",
    "#results:\n",
    "a = input_d['label']\n",
    "y_means = pd.DataFrame(y_means)\n",
    "z = pd.concat([y_means, a], axis = 1)\n",
    "z = z.rename(columns = {0: 'cluster'})\n",
    "\n",
    "# lets check the Clusters of each Crops\n",
    "print(\"Lets check the Results After Applying the K Means Clustering Analysis \\n\")\n",
    "print(\"Crops in First Cluster:\", z[z['cluster'] == 0]['label'].unique())\n",
    "print(\"---------------------------------------------------------------\")\n",
    "print(\"Crops in Second Cluster:\", z[z['cluster'] == 1]['label'].unique())\n",
    "print(\"---------------------------------------------------------------\")\n",
    "print(\"Crops in Third Cluster:\", z[z['cluster'] == 2]['label'].unique())\n",
    "print(\"---------------------------------------------------------------\")\n",
    "print(\"Crops in Forth Cluster:\", z[z['cluster'] == 3]['label'].unique())"
   ]
  },
  {
   "cell_type": "markdown",
   "metadata": {},
   "source": [
    "Deep clustering process:"
   ]
  },
  {
   "cell_type": "code",
   "execution_count": null,
   "metadata": {},
   "outputs": [],
   "source": [
    "print(\"Results for Hard Clustering\\n\")\n",
    "counts = z[z['cluster'] == 0]['label'].value_counts()\n",
    "d = z.loc[z['label'].isin(counts.index[counts >= 50])]\n",
    "d = d['label'].value_counts()\n",
    "print(\"Crops in Cluster 1:\", list(d.index))\n",
    "print(\"--------------------------------------------------\")\n",
    "counts = z[z['cluster'] == 1]['label'].value_counts()\n",
    "d = z.loc[z['label'].isin(counts.index[counts >= 50])]\n",
    "d = d['label'].value_counts()\n",
    "print(\"Crops in Cluster 2:\", list(d.index))\n",
    "print(\"--------------------------------------------------\")\n",
    "counts = z[z['cluster'] == 2]['label'].value_counts()\n",
    "d = z.loc[z['label'].isin(counts.index[counts >= 50])]\n",
    "d = d['label'].value_counts()\n",
    "print(\"Crops in Cluster 3:\", list(d.index))\n",
    "print(\"--------------------------------------------------\")\n",
    "counts = z[z['cluster'] == 3]['label'].value_counts()\n",
    "d = z.loc[z['label'].isin(counts.index[counts >= 50])]\n",
    "d = d['label'].value_counts()\n",
    "print(\"Crops in Cluster 4:\", list(d.index))"
   ]
  },
  {
   "cell_type": "code",
   "execution_count": null,
   "metadata": {},
   "outputs": [],
   "source": [
    "plt.rcParams['figure.figsize'] = (15, 8)\n",
    "\n",
    "plt.subplot(2, 4, 1)\n",
    "sns.barplot(input_d['N'], input_d['label'])\n",
    "plt.ylabel(' ')\n",
    "plt.xlabel('Ratio of Nitrogen', fontsize = 10)\n",
    "plt.yticks(fontsize = 10)\n",
    "\n",
    "plt.subplot(2, 4, 2)\n",
    "sns.barplot(input_d['P'], input_d['label'])\n",
    "plt.ylabel(' ')\n",
    "plt.xlabel('Ratio of Phosphorous', fontsize = 10)\n",
    "plt.yticks(fontsize = 10)\n",
    "\n",
    "plt.subplot(2, 4, 3)\n",
    "sns.barplot(input_d['K'], input_d['label'])\n",
    "plt.ylabel(' ')\n",
    "plt.xlabel('Ratio of Potassium', fontsize = 10)\n",
    "plt.yticks(fontsize = 10)\n",
    "\n",
    "plt.subplot(2, 4, 4)\n",
    "sns.barplot(input_d['temperature'], input_d['label'])\n",
    "plt.ylabel(' ')\n",
    "plt.xlabel('Temperature', fontsize = 10)\n",
    "plt.yticks(fontsize = 10)\n",
    "\n",
    "plt.subplot(2, 4, 5)\n",
    "sns.barplot(input_d['humidity'], input_d['label'])\n",
    "plt.ylabel(' ')\n",
    "plt.xlabel('Humidity', fontsize = 10)\n",
    "plt.yticks(fontsize = 10)\n",
    "\n",
    "plt.subplot(2, 4, 6)\n",
    "sns.barplot(input_d['ph'], input_d['label'])\n",
    "plt.ylabel(' ')\n",
    "plt.xlabel('pH of Soil', fontsize = 10)\n",
    "plt.yticks(fontsize = 10)\n",
    "\n",
    "plt.subplot(2, 4, 7)\n",
    "sns.barplot(input_d['rainfall'], input_d['label'])\n",
    "plt.ylabel(' ')\n",
    "plt.xlabel('Rainfall', fontsize = 10)\n",
    "plt.yticks(fontsize = 10)\n",
    "\n",
    "plt.suptitle('Visualizing the Impact of Different Conditions on Crops', fontsize = 15)\n",
    "plt.show()"
   ]
  },
  {
   "cell_type": "markdown",
   "metadata": {},
   "source": [
    "now we are implementing the train test split"
   ]
  },
  {
   "cell_type": "code",
   "execution_count": null,
   "metadata": {},
   "outputs": [],
   "source": [
    "from sklearn.model_selection import train_test_split\n",
    "x_train, x_test, y_train, y_test = train_test_split(x, y, test_size = 0.2, random_state = 0)\n",
    "\n",
    "#shaping\n",
    "print(\"The Shape of x train:\", x_train.shape)\n",
    "print(\"The Shape of x test:\", x_test.shape)\n",
    "print(\"The Shape of y train:\", y_train.shape)\n",
    "print(\"The Shape of y test:\", y_test.shape)"
   ]
  },
  {
   "cell_type": "markdown",
   "metadata": {},
   "source": [
    "Building the predictive model"
   ]
  },
  {
   "cell_type": "code",
   "execution_count": null,
   "metadata": {},
   "outputs": [],
   "source": [
    "from sklearn.linear_model import LogisticRegression\n",
    "\n",
    "model = LogisticRegression()\n",
    "model.fit(x_train, x_test)\n",
    "y_predictive = model.predict(x_test)"
   ]
  },
  {
   "cell_type": "code",
   "execution_count": null,
   "metadata": {},
   "outputs": [],
   "source": [
    "#next step is evaluating\n",
    "from sklearn.metrics import classification_report, confusion_matrix\n",
    "\n",
    "# lets print the Confusion matrix first\n",
    "plt.rcParams['figure.figsize'] = (10, 10)\n",
    "cm = confusion_matrix(y_test, y_predictive)\n",
    "sns.heatmap(cm, annot = True, cmap = 'Wistia')\n",
    "plt.title('Confusion Matrix for Logistic Regression', fontsize = 15)\n",
    "plt.show()\n",
    "\n",
    "# lets print the Classification Report also\n",
    "cr = classification_report(y_test, y_predictive)\n",
    "print(cr)"
   ]
  },
  {
   "cell_type": "code",
   "execution_count": null,
   "metadata": {},
   "outputs": [],
   "source": [
    "prediction = model.predict((np.array([[90,\n",
    "                                       40,\n",
    "                                       40,\n",
    "                                       20,\n",
    "                                       80,\n",
    "                                       7,\n",
    "                                       200]])))\n",
    "print(\"The Suggested Crop for Given Climatic Condition is :\", prediction)"
   ]
  },
  {
   "cell_type": "code",
   "execution_count": null,
   "metadata": {},
   "outputs": [],
   "source": [
    "# lets check the Model for Oranges also\n",
    "input_d[input_d['label'] == 'orange'].head()"
   ]
  },
  {
   "cell_type": "code",
   "execution_count": null,
   "metadata": {},
   "outputs": [],
   "source": [
    "# lets do some Real time Predictions\n",
    "prediction = model.predict((np.array([[20,\n",
    "                                       30,\n",
    "                                       10,\n",
    "                                       15,\n",
    "                                       90,\n",
    "                                       7.5,\n",
    "                                       100]])))\n",
    "print(\"The Suggested Crop for Given Climatic Condition is :\", prediction)"
   ]
  }
 ],
 "metadata": {
  "kernelspec": {
   "display_name": "Python 3",
   "language": "python",
   "name": "python3"
  },
  "language_info": {
   "codemirror_mode": {
    "name": "ipython",
    "version": 3
   },
   "file_extension": ".py",
   "mimetype": "text/x-python",
   "name": "python",
   "nbconvert_exporter": "python",
   "pygments_lexer": "ipython3",
   "version": "3.11.3"
  }
 },
 "nbformat": 4,
 "nbformat_minor": 2
}
