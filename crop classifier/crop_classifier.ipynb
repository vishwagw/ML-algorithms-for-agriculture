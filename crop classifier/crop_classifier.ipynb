{
 "cells": [
  {
   "cell_type": "code",
   "execution_count": 1,
   "metadata": {},
   "outputs": [
    {
     "name": "stdout",
     "output_type": "stream",
     "text": [
      "F:\\Agri project\\coding\\algorithms\\crop classifier\\Crop_details.csv\n"
     ]
    }
   ],
   "source": [
    "#importing the libraries \n",
    "import numpy as np\n",
    "import pandas as pd\n",
    "import os\n",
    "for dirname, _, filnames in os.walk (r'F:\\Agri project\\coding\\algorithms\\crop classifier'):\n",
    "    for filname in filnames:\n",
    "        print(os.path.join(dirname, filname))\n",
    "        break\n"
   ]
  },
  {
   "cell_type": "code",
   "execution_count": 3,
   "metadata": {},
   "outputs": [],
   "source": [
    "#importing further libraries.\n",
    "from sklearn.preprocessing import OneHotEncoder\n",
    "from sklearn.model_selection import train_test_split\n",
    "import matplotlib.pyplot as plt\n",
    "import seaborn as sns\n",
    "import tensorflow as tf\n",
    "import keras\n",
    "from keras.layers import Conv2D\n",
    "from keras.models import Sequential\n",
    "from keras.layers import MaxPool2D\n",
    "from keras.layers import Flatten\n",
    "from keras.models import Model\n",
    "#from keras.preprocessing.image import ImageDataGenerator\n",
    "import cv2\n",
    "import re\n",
    "import random\n",
    "import numpy as np\n",
    "random.seed(0)\n",
    "np.random.seed(0)"
   ]
  },
  {
   "cell_type": "code",
   "execution_count": null,
   "metadata": {},
   "outputs": [],
   "source": [
    "wheat = plt.imread()\n",
    "jute = plt.imread()\n",
    "cane = plt.imread()\n",
    "rice = plt.imread()\n",
    "maize = plt.imread()"
   ]
  },
  {
   "cell_type": "code",
   "execution_count": null,
   "metadata": {},
   "outputs": [],
   "source": [
    "plt.figure(figsize=(20,3))\n",
    "plt.subplot(1,5,1)\n",
    "plt.imshow(jute)\n",
    "plt.title(\"jute\")\n",
    "plt.subplot(1,5,2)\n",
    "plt.imshow(maize)\n",
    "plt.title(\"maize\")\n",
    "plt.subplot(1,5,3)\n",
    "plt.imshow(rice)\n",
    "plt.title(\"rice\")\n",
    "plt.subplot(1,5,4)\n",
    "plt.imshow(cane)\n",
    "plt.title(\"sugarcane\")\n",
    "plt.subplot(1,5,5)\n",
    "plt.imshow(wheat)\n",
    "plt.title(\"wheat\")"
   ]
  }
 ],
 "metadata": {
  "kernelspec": {
   "display_name": "Python 3",
   "language": "python",
   "name": "python3"
  },
  "language_info": {
   "codemirror_mode": {
    "name": "ipython",
    "version": 3
   },
   "file_extension": ".py",
   "mimetype": "text/x-python",
   "name": "python",
   "nbconvert_exporter": "python",
   "pygments_lexer": "ipython3",
   "version": "3.11.3"
  }
 },
 "nbformat": 4,
 "nbformat_minor": 2
}
