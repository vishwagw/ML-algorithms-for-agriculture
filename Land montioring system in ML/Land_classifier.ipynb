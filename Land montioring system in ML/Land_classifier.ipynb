{
 "cells": [
  {
   "cell_type": "code",
   "execution_count": null,
   "metadata": {},
   "outputs": [],
   "source": [
    "#importing libraires\n",
    "import numpy as np\n",
    "import geemap\n",
    "import pandas as pd\n",
    "import os\n",
    "import geopandas as gpd\n",
    "import folium\n",
    "import matplotlib.pyplot as plt \n",
    "from sklearn.preprocessing import MinMaxScaler\n",
    "import ee \n"
   ]
  },
  {
   "cell_type": "code",
   "execution_count": null,
   "metadata": {},
   "outputs": [],
   "source": [
    "#triggering the authentication flow\n",
    "ee.Authenticate()\n",
    "\n",
    "#intialize the library\n",
    "ee.Initialize()\n",
    "\n",
    "# initializes the Google Earth Engine API\n",
    "geemap.ee_initialize()"
   ]
  },
  {
   "cell_type": "markdown",
   "metadata": {},
   "source": [
    "Define Functions for customised visualzation."
   ]
  },
  {
   "cell_type": "code",
   "execution_count": null,
   "metadata": {},
   "outputs": [],
   "source": [
    "# Define a function for visualizing a single vector layer\n",
    "def vectorMap(layer, viz_params, name):\n",
    "\n",
    "    \"\"\"\n",
    "\n",
    "    \"\"\"\n",
    "    map = geemap.Map(center=[12.422777,10.028956], zoom=13)\n",
    "    map.add_basemap(\"SATELLITE\")\n",
    "    map.addLayer(layer, vis_params=viz_params, name=name, opacity=0.5)\n",
    "    return map"
   ]
  },
  {
   "cell_type": "code",
   "execution_count": null,
   "metadata": {},
   "outputs": [],
   "source": [
    "# Define a function for visualizing a single raster layer\n",
    "def rasterMap(layer, viz_params, name):\n",
    "\n",
    "    \"\"\"\n",
    "\n",
    "    \"\"\"\n",
    "    map = geemap.Map(center=[12.422777,10.028956], zoom=13)\n",
    "    map.add_basemap(\"SATELLITE\")\n",
    "    map.addLayer(layer, vis_params=viz_params, name=name)\n",
    "    return map"
   ]
  },
  {
   "cell_type": "code",
   "execution_count": null,
   "metadata": {},
   "outputs": [],
   "source": [
    "# Define a function for visualizing four (4) layers using a linked map \n",
    "def linkedMap(layers, viz_params, labels):\n",
    "    \"\"\"\n",
    "\n",
    "    \"\"\"\n",
    "\n",
    "    map = geemap.linked_maps(\n",
    "     rows=2,\n",
    "     cols=2,\n",
    "        height=\"450px\",\n",
    "        center=[12.422777,10.028956],\n",
    "        zoom=13,\n",
    "        ee_objects=layers,\n",
    "        vis_params=viz_params,\n",
    "        labels=labels,\n",
    "        label_position=\"topright\",\n",
    "    )\n",
    "    return map"
   ]
  },
  {
   "cell_type": "code",
   "execution_count": null,
   "metadata": {},
   "outputs": [],
   "source": [
    "# Define a function to visualize two (2) layers using slider Map\n",
    "\n",
    "def sliderMap(layer1params, layer2params):\n",
    "    \"\"\"\n",
    "\n",
    "    \"\"\"\n",
    "\n",
    "    ee_object1, vis_params1, name1 = layer1params\n",
    "    ee_object2, vis_params2, name2 = layer2params\n",
    "    \n",
    "    left_layer = geemap.ee_tile_layer(ee_object1, vis_params1, name=name1)\n",
    "    right_layer = geemap.ee_tile_layer(ee_object2, vis_params2, name=name2)\n",
    "    \n",
    "    map = geemap.Map(center=(12.422777,10.028956), zoom =13)\n",
    "\n",
    "    map.split_map(left_layer, right_layer)\n",
    "    return map"
   ]
  },
  {
   "cell_type": "markdown",
   "metadata": {},
   "source": [
    "Data Downlaoding and processing: Boundary Data"
   ]
  },
  {
   "cell_type": "code",
   "execution_count": null,
   "metadata": {},
   "outputs": [],
   "source": [
    "# Load the boundary of Haejia\n",
    "adm2 = ee.FeatureCollection(\"FAO/GAUL/2015/level2\")\n",
    "hadejia_bdry = adm2.filter(ee.Filter.eq(\"ADM2_NAME\", \"Hadejia\"))\n",
    "roi = hadejia_bdry.geometry()"
   ]
  },
  {
   "cell_type": "code",
   "execution_count": null,
   "metadata": {},
   "outputs": [],
   "source": [
    "# Visualize the boundary\n",
    "vectorMap(roi, {\"fillColor\": \"00000000\", \"color\": \"FF0000\"}, \"Hadejia Boundary\")"
   ]
  },
  {
   "cell_type": "markdown",
   "metadata": {},
   "source": [
    "Satellite images"
   ]
  },
  {
   "cell_type": "code",
   "execution_count": null,
   "metadata": {},
   "outputs": [],
   "source": [
    "# Set the start and end dates to search for images\n",
    "start_date = \"2023-02-01\"\n",
    "end_date = \"2023-11-30\""
   ]
  },
  {
   "cell_type": "code",
   "execution_count": null,
   "metadata": {},
   "outputs": [],
   "source": [
    "# Define a function that download and process time-series sentinel-2 images\n",
    "def s2Process(dates, extent, cloud):\n",
    "\n",
    "    \"\"\"\n",
    "\n",
    "    \"\"\"\n",
    "    start_date, end_date = dates\n",
    "\n",
    "    # Load and filter Sentinel-2 image collection \n",
    "    def imgDownload():\n",
    "        \n",
    "        img_collection = (ee.ImageCollection(\"COPERNICUS/S2_SR_HARMONIZED\")\n",
    "                    .filterDate(start_date, end_date)\n",
    "                    .filter(ee.Filter.eq('MGRS_TILE', '32PPU'))\n",
    "                    .filter(ee.Filter.lt(\"CLOUDY_PIXEL_PERCENTAGE\", cloud))\n",
    "                    .filterBounds(extent))\n",
    "\n",
    "        print(f\"There are {img_collection.size().getInfo()} Sentinel-2 Images\")\n",
    "        return img_collection\n",
    "\n",
    "# function for cloud masking\n",
    "    def s2ClearSky(image):\n",
    "      \n",
    "        scl = image.select('SCL')\n",
    "        clear_sky_pixels = scl.eq(4).Or(scl.eq(5)).Or(scl.eq(6)).Or(scl.eq(11))\n",
    "        return image.updateMask(clear_sky_pixels).multiply(0.0001)\n",
    "    \n",
    "    # function for resampling 20 meter bands to 10m\n",
    "    def bandResample(image):\n",
    "       \n",
    "        bands_10m = image.select([\"B2\", \"B3\", \"B4\", \"B8\"])\n",
    "        bands_20m = image.select([\"B5\",\"B6\", \"B7\", \"B8A\", \"B11\", \"B12\"]).resample(\"bilinear\").reproject(crs=bands_10m.projection(), scale=10)\n",
    "        return bands_10m.addBands(bands_20m)\n",
    "\n",
    "\n",
    "    # function to compute spectral indices\n",
    "    def indices(image):\n",
    "        \n",
    "        ndvi = image.normalizedDifference([\"B8\", \"B4\"]).rename(\"ndvi\")\n",
    "        mndwi = image.normalizedDifference([\"B3\", \"B11\"]).rename(\"mndwi\")\n",
    "        ndbi = image.normalizedDifference([\"B11\", \"B8\"]).rename(\"ndbi\")\n",
    "        bsi = image.expression(\n",
    "         \"((SWIR1 + RED) - (NIR + BLUE)) / ((SWIR1 + RED) + (NIR + BLUE))\",\n",
    "            {\n",
    "                \"SWIR1\": image.select([\"B11\"]),\n",
    "                \"RED\": image.select([\"B4\"]),\n",
    "                \"NIR\": image.select([\"B8\"]),\n",
    "                \"BLUE\": image.select([\"B2\"]),\n",
    "            }\n",
    "        ).rename(\"bsi\")\n",
    "        return image.addBands([ndvi, mndwi, ndbi, bsi])\n",
    "    \n",
    "    # Donwload the image collection\n",
    "    s2_collection = imgDownload()\n",
    "\n",
    "    # Apply the functions to remove clouds, resmaple bands, and compute spectral indices\n",
    "    s2_collection_resampled = (s2_collection\n",
    "                           .map(s2ClearSky)\n",
    "                           .map(bandResample)\n",
    "                           .map(indices))\n",
    "    \n",
    "    # Compute the median composite\n",
    "    s2_median= s2_collection_resampled.median()\n",
    "\n",
    "    # Clip the median composite image to the region of interest\n",
    "    s2_median= s2_median.clip(extent)\n",
    "\n",
    "    # Check the \"s2_median\" properties\n",
    "\n",
    "    # Get the projection information from one of the bands\n",
    "    s2_median_projection = s2_median.select(0).projection()\n",
    "\n",
    "    # Get the CRS and spatial resolution\n",
    "    s2_median_crs = s2_median_projection.crs().getInfo()\n",
    "    s2_median_scale = s2_median_projection.nominalScale().getInfo()\n",
    "\n",
    "    print(f\"The CRS of s2_median is {s2_median_crs}\")\n",
    "    print(f\"The spatial resolution of s2_median is {s2_median_scale}\")\n",
    "\n",
    "    # Check the bands in \"s2_median\"\n",
    "    s2_band_names = s2_median.bandNames().getInfo()\n",
    "    print(f\"The following are the bands in 's2_median': {s2_band_names}\")\n",
    "\n",
    "\n",
    "    return s2_median"
   ]
  },
  {
   "cell_type": "code",
   "execution_count": null,
   "metadata": {},
   "outputs": [],
   "source": [
    "# Download s2-image collectionn, remove clouds, resmaple bands, compute spectral indices, and median composites\n",
    "dates = (start_date, end_date)\n",
    "s2_median_2023 = s2Process(dates, roi, 30)"
   ]
  },
  {
   "cell_type": "code",
   "execution_count": null,
   "metadata": {},
   "outputs": [],
   "source": [
    "# Visualize the \"s2_median_2023\"\n",
    "s2_vis_params = {\"min\":0, \"max\": 0.3, \"bands\":[\"B8\", \"B4\", \"B3\"], \"gamma\":0.6}\n",
    "\n",
    "rasterMap(s2_median_2023, s2_vis_params, \"S2 Median Composite 2023\")\n"
   ]
  },
  {
   "cell_type": "code",
   "execution_count": null,
   "metadata": {},
   "outputs": [],
   "source": [
    "# Define a function that download and process time-series sentinel-1 images\n",
    "\n",
    "def s1Process(dates, extent, radius):\n",
    "    \"\"\"\n",
    "    \"\"\"\n",
    "    start_date, end_date = dates\n",
    "\n",
    "    # Function to load and filter Sentinel-1 image collection \n",
    "    def imgdownload():\n",
    "        img_collection = (ee.ImageCollection(\"COPERNICUS/S1_GRD\")\n",
    "                .filterDate(start_date, end_date)\n",
    "                .filter(ee.Filter.eq(\"instrumentMode\", \"IW\"))\n",
    "                .filterMetadata(\"resolution_meters\", \"equals\", 10)\n",
    "                .filterBounds(extent)\n",
    "                .select([\"VV\", \"VH\"]))\n",
    "\n",
    "        print(f\"There are {img_collection.size().getInfo()} Sentinel-1 Images\")\n",
    "\n",
    "        # Check the available polarizations in the s1_collection\n",
    "        img_collection_polarizations = img_collection.first().bandNames().getInfo()\n",
    "\n",
    "        print(f\"The following are the polarizations in the Sentinel-1 collection: {img_collection_polarizations}\")\n",
    "        return img_collection\n",
    "\n",
    "    # Function to apply speckle filter\n",
    "    def speckle(image):\n",
    "        image_filtered = image.focal_median(radius, \"circle\", \"meters\")\n",
    "        return image_filtered.copyProperties(image, image.propertyNames())\n",
    "\n",
    "     # Function to compute VH / VV ratio\n",
    "    def ratio(image):\n",
    "        vh = image.select(\"VH\")\n",
    "        vv = image.select(\"VV\")\n",
    "        ratio = vh.divide(vv).rename(\"VH_VV_ratio\")\n",
    "        return image.addBands([ratio])\n",
    "\n",
    "    # Download the s-1 image collection\n",
    "    s1_collection = imgdownload()\n",
    "\n",
    "    # Apply speckle-filter and compute ratio to the S1_collection\n",
    "    s1_collection_filtered = (s1_collection\n",
    "                              .map(speckle)\n",
    "                              .map(ratio))\n",
    "\n",
    "    # compute median composites\n",
    "    s1_median =  s1_collection_filtered.median()\n",
    "\n",
    "    # Clip to the extent\n",
    "    s1_median = s1_median.clip(extent)\n",
    "\n",
    "\n",
    "    # Check the \"s1_median\" properties\n",
    "\n",
    "    # Get the projection information from one of the bands\n",
    "    s1_median_projection = s1_median.select(0).projection()\n",
    "\n",
    "    # Get the CRS and spatial resolution\n",
    "    s1_median_crs = s1_median_projection.crs().getInfo()\n",
    "    s1_median_scale = s1_median_projection.nominalScale().getInfo()\n",
    "\n",
    "    print(f\"The CRS of s1_median is {s1_median_crs}\")\n",
    "    print(f\"The spatial resolution of s1_median is {s1_median_scale}\")\n",
    "\n",
    "    # Check the bands in \"s2_median\"\n",
    "    s1_band_names = s1_median.bandNames().getInfo()\n",
    "    print(f\"The following are the bands in 's1_median': {s1_band_names}\")\n",
    "\n",
    "    return s1_median"
   ]
  },
  {
   "cell_type": "code",
   "execution_count": null,
   "metadata": {},
   "outputs": [],
   "source": [
    "# Download s1-image collectionn, apply speckle filter, compute ratio, and median composites\n",
    "dates = (start_date, end_date)\n",
    "s1_median_2023 = s1Process(dates, roi, 50)\n",
    "\n",
    "# Select different polarizations from s1_median_2023\n",
    "s1_median_2023_VH = s1_median_2023.select(\"VH\")\n",
    "s1_median_2023_VV = s1_median_2023.select(\"VV\")\n",
    "s1_median_2023_ratio = s1_median_2023.select(\"VH_VV_ratio\")"
   ]
  },
  {
   "cell_type": "code",
   "execution_count": null,
   "metadata": {},
   "outputs": [],
   "source": [
    "# Create a linked Map of Sentinel-1 VH, VH, VH_VV_Ratio, and Sentinel-2 median\n",
    "\n",
    "# Define a list of layers\n",
    "layers = [s1_median_2023_VH, s1_median_2023_VV, s1_median_2023_ratio, s2_median_2023]\n",
    "\n",
    "# Define the visualization parameters\n",
    "linked_viz_params = [\n",
    "    {\"min\":-20, \"max\":-1, \"bands\":[\"VH\"], \"gamma\":1.5},\n",
    "    {\"min\":-20, \"max\":-1, \"bands\":[\"VV\"], \"gamma\": 1},\n",
    "    {\"min\":0, \"max\":3, \"bands\":[\"VH_VV_ratio\"], \"gamma\": 0.95},\n",
    "    {\"min\": 0, \"max\": 0.3, \"bands\": [\"B4\", \"B3\", \"B2\"], \"gamma\": 0.95},\n",
    "]\n",
    "\n",
    "# Create labels for the link map\n",
    "linked_labels = [\n",
    "    \"Sentinel-1 (VV Median)\",\n",
    "    \"Sentinel-1 (VH Median)\",\n",
    "    \"Sentinel-1 (VH_VV Ratio)\",\n",
    "    \"Sentinel-2 (Median)\"\n",
    "]\n",
    "\n",
    "# Visualize the layers\n",
    "linkedMap(layers, linked_viz_params, linked_labels)"
   ]
  },
  {
   "cell_type": "code",
   "execution_count": null,
   "metadata": {},
   "outputs": [],
   "source": [
    "stacked_layer = s2_median_2023.addBands(s1_median_2023_VH).addBands(s1_median_2023_VV).addBands(s1_median_2023_ratio) \n",
    "print(f\"The bands in the stacked layer are: {stacked_layer.bandNames().getInfo()}\")"
   ]
  },
  {
   "cell_type": "code",
   "execution_count": null,
   "metadata": {},
   "outputs": [],
   "source": [
    "# Check the properties of the \"stacked_layer\"\n",
    "\n",
    "# Get the projection information from one of the bands\n",
    "stacked_layer_projection = stacked_layer.select(16).projection()\n",
    "\n",
    "# Get the CRS and spatial resolution\n",
    "stacked_layer_crs = stacked_layer_projection.crs().getInfo()\n",
    "stacked_layer_scale = stacked_layer_projection.nominalScale().getInfo()\n",
    "\n",
    "print(f\"The CRS of the stacked_layer is {stacked_layer_crs}\")\n",
    "print(f\"The spatial resolution of the stacked_layer is {stacked_layer_scale}\")"
   ]
  },
  {
   "cell_type": "code",
   "execution_count": null,
   "metadata": {},
   "outputs": [],
   "source": []
  },
  {
   "cell_type": "markdown",
   "metadata": {},
   "source": [
    "Train and Test"
   ]
  },
  {
   "cell_type": "code",
   "execution_count": null,
   "metadata": {},
   "outputs": [],
   "source": [
    "# Load the training and testing data\n",
    "sample_gdf = gpd.read_file(\"Data\\Training_Testing_Samples_2023_WGS84.shp\")\n",
    "\n",
    "sample_gdf.info()"
   ]
  }
 ],
 "metadata": {
  "language_info": {
   "name": "python"
  }
 },
 "nbformat": 4,
 "nbformat_minor": 2
}
